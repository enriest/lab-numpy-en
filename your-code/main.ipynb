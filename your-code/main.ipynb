{
 "cells": [
  {
   "cell_type": "markdown",
   "metadata": {},
   "source": [
    "# Lab | Numpy Deep Dive"
   ]
  },
  {
   "cell_type": "markdown",
   "metadata": {},
   "source": [
    "### 1. Import the NUMPY package under the name np.\n"
   ]
  },
  {
   "cell_type": "code",
   "execution_count": 1,
   "metadata": {},
   "outputs": [],
   "source": [
    "### [your code here]\n",
    "import numpy as np"
   ]
  },
  {
   "cell_type": "markdown",
   "metadata": {},
   "source": [
    "\n",
    "\n",
    "### 2. Print the NUMPY version and the configuration.\n"
   ]
  },
  {
   "cell_type": "code",
   "execution_count": 19,
   "metadata": {},
   "outputs": [
    {
     "name": "stdout",
     "output_type": "stream",
     "text": [
      "1.26.4\n"
     ]
    }
   ],
   "source": [
    "### [your code here]\n",
    "print(np.version.version)"
   ]
  },
  {
   "cell_type": "markdown",
   "metadata": {},
   "source": [
    "### 3. Generate a 2x3x5 3-dimensional array with random values. Assign the array to variable \"a\"\n",
    "Challenge: there are at least three easy ways that use numpy to generate random arrays. How many ways can you find?\n"
   ]
  },
  {
   "cell_type": "code",
   "execution_count": 72,
   "metadata": {},
   "outputs": [],
   "source": [
    "### [your code here]\n",
    "a = np.random.rand(2, 3, 5)\n"
   ]
  },
  {
   "cell_type": "markdown",
   "metadata": {},
   "source": [
    "\n",
    "### 4. Print a.\n"
   ]
  },
  {
   "cell_type": "code",
   "execution_count": 22,
   "metadata": {},
   "outputs": [
    {
     "name": "stdout",
     "output_type": "stream",
     "text": [
      "[[[0.02142715 0.22847828 0.23636085 0.27372269 0.87363296]\n",
      "  [0.75970565 0.62323311 0.84938767 0.03884973 0.91106535]\n",
      "  [0.40066535 0.00599448 0.09307211 0.980551   0.8526186 ]]\n",
      "\n",
      " [[0.93485536 0.96221093 0.62466333 0.88549352 0.85552566]\n",
      "  [0.67488414 0.84479562 0.03385445 0.18954918 0.51914385]\n",
      "  [0.14453054 0.84071941 0.40506194 0.2662533  0.9971622 ]]]\n"
     ]
    }
   ],
   "source": [
    "### [your code here]\n",
    "print(a)"
   ]
  },
  {
   "cell_type": "markdown",
   "metadata": {},
   "source": [
    "### 5. Create a 5x2x3 3-dimensional array with all values equaling 1.\n",
    "### Assign the array to variable \"b\"\n"
   ]
  },
  {
   "cell_type": "code",
   "execution_count": 23,
   "metadata": {},
   "outputs": [],
   "source": [
    "### [your code here]\n",
    "b = np.ones((5,2,3))\n"
   ]
  },
  {
   "cell_type": "markdown",
   "metadata": {},
   "source": [
    "\n",
    "### 6. Print b.\n"
   ]
  },
  {
   "cell_type": "code",
   "execution_count": 24,
   "metadata": {},
   "outputs": [
    {
     "name": "stdout",
     "output_type": "stream",
     "text": [
      "[[[1. 1. 1.]\n",
      "  [1. 1. 1.]]\n",
      "\n",
      " [[1. 1. 1.]\n",
      "  [1. 1. 1.]]\n",
      "\n",
      " [[1. 1. 1.]\n",
      "  [1. 1. 1.]]\n",
      "\n",
      " [[1. 1. 1.]\n",
      "  [1. 1. 1.]]\n",
      "\n",
      " [[1. 1. 1.]\n",
      "  [1. 1. 1.]]]\n"
     ]
    }
   ],
   "source": [
    "### [your code here]\n",
    "print(b)"
   ]
  },
  {
   "cell_type": "markdown",
   "metadata": {},
   "source": [
    "\n",
    "### 7. Do a and b have the same size? How do you prove that in Python code?\n"
   ]
  },
  {
   "cell_type": "code",
   "execution_count": 25,
   "metadata": {},
   "outputs": [
    {
     "name": "stdout",
     "output_type": "stream",
     "text": [
      "True\n"
     ]
    }
   ],
   "source": [
    "### [your code here]\n",
    "print(a.size == b.size)"
   ]
  },
  {
   "cell_type": "markdown",
   "metadata": {},
   "source": [
    "\n",
    "### 8. Are you able to add a and b? Why or why not?\n"
   ]
  },
  {
   "cell_type": "code",
   "execution_count": 27,
   "metadata": {},
   "outputs": [
    {
     "data": {
      "text/plain": [
       "\"Yes, you can. But you have to keep some things in mind:\\nThey must have the same dimensions or shape of the matrices. Not 1D and 3D arrays, for example.\\nHowever, you can concatenate them, which is not arithmetic addition, they're just following each other.\""
      ]
     },
     "execution_count": 27,
     "metadata": {},
     "output_type": "execute_result"
    }
   ],
   "source": [
    "### [your code here]\n",
    "\"\"\"Yes, you can. But you have to keep some things in mind:\n",
    "They must have the same dimensions or shape of the matrices. Not 1D and 3D arrays, for example.\n",
    "However, you can concatenate them, which is not arithmetic addition, they're just following each other.\"\"\""
   ]
  },
  {
   "cell_type": "markdown",
   "metadata": {},
   "source": [
    "\n",
    "\n",
    "### 9. Transpose b so that it has the same structure of a (i.e. become a 2x3x5 array). Assign the transposed array to varialbe \"c\".\n"
   ]
  },
  {
   "cell_type": "code",
   "execution_count": 49,
   "metadata": {},
   "outputs": [
    {
     "name": "stdout",
     "output_type": "stream",
     "text": [
      "[[[0.02142715 0.22847828 0.23636085 0.27372269 0.87363296]\n",
      "  [0.75970565 0.62323311 0.84938767 0.03884973 0.91106535]\n",
      "  [0.40066535 0.00599448 0.09307211 0.980551   0.8526186 ]]\n",
      "\n",
      " [[0.93485536 0.96221093 0.62466333 0.88549352 0.85552566]\n",
      "  [0.67488414 0.84479562 0.03385445 0.18954918 0.51914385]\n",
      "  [0.14453054 0.84071941 0.40506194 0.2662533  0.9971622 ]]]\n",
      "[[[1. 1. 1. 1. 1.]\n",
      "  [1. 1. 1. 1. 1.]\n",
      "  [1. 1. 1. 1. 1.]]\n",
      "\n",
      " [[1. 1. 1. 1. 1.]\n",
      "  [1. 1. 1. 1. 1.]\n",
      "  [1. 1. 1. 1. 1.]]]\n"
     ]
    }
   ],
   "source": [
    "### [your code here]\n",
    "print(a)\n",
    "c = np.transpose(b,(1,2,0))\n",
    "print(c)"
   ]
  },
  {
   "cell_type": "markdown",
   "metadata": {},
   "source": [
    "\n",
    "### 10. Try to add a and c. Now it should work. Assign the sum to variable \"d\". But why does it work now?\n"
   ]
  },
  {
   "cell_type": "code",
   "execution_count": 50,
   "metadata": {},
   "outputs": [
    {
     "name": "stdout",
     "output_type": "stream",
     "text": [
      "[[[1.02142715 1.22847828 1.23636085 1.27372269 1.87363296]\n",
      "  [1.75970565 1.62323311 1.84938767 1.03884973 1.91106535]\n",
      "  [1.40066535 1.00599448 1.09307211 1.980551   1.8526186 ]]\n",
      "\n",
      " [[1.93485536 1.96221093 1.62466333 1.88549352 1.85552566]\n",
      "  [1.67488414 1.84479562 1.03385445 1.18954918 1.51914385]\n",
      "  [1.14453054 1.84071941 1.40506194 1.2662533  1.9971622 ]]]\n"
     ]
    },
    {
     "data": {
      "text/plain": [
       "\"They have the same shape, so every part of the array has a correspondant in the other array, which it's mandatory for adding two arrays.\""
      ]
     },
     "execution_count": 50,
     "metadata": {},
     "output_type": "execute_result"
    }
   ],
   "source": [
    "### [your code here]\n",
    "d = a+c\n",
    "print(d)\n",
    "\n",
    "\"\"\"They have the same shape, so every part of the array has a correspondant in the other array, which it's mandatory for adding two arrays.\"\"\""
   ]
  },
  {
   "cell_type": "markdown",
   "metadata": {},
   "source": [
    "\n",
    "### 11. Print a and d. Notice the difference and relation of the two array in terms of the values? Explain.\n"
   ]
  },
  {
   "cell_type": "code",
   "execution_count": 51,
   "metadata": {},
   "outputs": [
    {
     "name": "stdout",
     "output_type": "stream",
     "text": [
      "[[[0.02142715 0.22847828 0.23636085 0.27372269 0.87363296]\n",
      "  [0.75970565 0.62323311 0.84938767 0.03884973 0.91106535]\n",
      "  [0.40066535 0.00599448 0.09307211 0.980551   0.8526186 ]]\n",
      "\n",
      " [[0.93485536 0.96221093 0.62466333 0.88549352 0.85552566]\n",
      "  [0.67488414 0.84479562 0.03385445 0.18954918 0.51914385]\n",
      "  [0.14453054 0.84071941 0.40506194 0.2662533  0.9971622 ]]]\n",
      "[[[1.02142715 1.22847828 1.23636085 1.27372269 1.87363296]\n",
      "  [1.75970565 1.62323311 1.84938767 1.03884973 1.91106535]\n",
      "  [1.40066535 1.00599448 1.09307211 1.980551   1.8526186 ]]\n",
      "\n",
      " [[1.93485536 1.96221093 1.62466333 1.88549352 1.85552566]\n",
      "  [1.67488414 1.84479562 1.03385445 1.18954918 1.51914385]\n",
      "  [1.14453054 1.84071941 1.40506194 1.2662533  1.9971622 ]]]\n"
     ]
    },
    {
     "data": {
      "text/plain": [
       "\"It's an addition of c with a value of 1 and a. Every part of the array finds its correspondant at the same place.\""
      ]
     },
     "execution_count": 51,
     "metadata": {},
     "output_type": "execute_result"
    }
   ],
   "source": [
    "### [your code here]\n",
    "print(a)\n",
    "print(d)\n",
    "\"\"\"It's an addition of c with a value of 1 and a. Every part of the array finds its correspondant at the same place.\"\"\""
   ]
  },
  {
   "cell_type": "markdown",
   "metadata": {},
   "source": [
    "\n",
    "### 12. Multiply a and c. Assign the result to e.\n"
   ]
  },
  {
   "cell_type": "code",
   "execution_count": 52,
   "metadata": {},
   "outputs": [
    {
     "name": "stdout",
     "output_type": "stream",
     "text": [
      "[[[0.02142715 0.22847828 0.23636085 0.27372269 0.87363296]\n",
      "  [0.75970565 0.62323311 0.84938767 0.03884973 0.91106535]\n",
      "  [0.40066535 0.00599448 0.09307211 0.980551   0.8526186 ]]\n",
      "\n",
      " [[0.93485536 0.96221093 0.62466333 0.88549352 0.85552566]\n",
      "  [0.67488414 0.84479562 0.03385445 0.18954918 0.51914385]\n",
      "  [0.14453054 0.84071941 0.40506194 0.2662533  0.9971622 ]]]\n"
     ]
    }
   ],
   "source": [
    "### [your code here]\n",
    "e = a * c\n",
    "print(e)"
   ]
  },
  {
   "cell_type": "markdown",
   "metadata": {},
   "source": [
    "\n",
    "\n",
    "### 13. Does e equal to a? Why or why not?\n"
   ]
  },
  {
   "cell_type": "code",
   "execution_count": 53,
   "metadata": {},
   "outputs": [
    {
     "name": "stdout",
     "output_type": "stream",
     "text": [
      "[[[0.02142715 0.22847828 0.23636085 0.27372269 0.87363296]\n",
      "  [0.75970565 0.62323311 0.84938767 0.03884973 0.91106535]\n",
      "  [0.40066535 0.00599448 0.09307211 0.980551   0.8526186 ]]\n",
      "\n",
      " [[0.93485536 0.96221093 0.62466333 0.88549352 0.85552566]\n",
      "  [0.67488414 0.84479562 0.03385445 0.18954918 0.51914385]\n",
      "  [0.14453054 0.84071941 0.40506194 0.2662533  0.9971622 ]]]\n",
      "-------------\n",
      "[[[0.02142715 0.22847828 0.23636085 0.27372269 0.87363296]\n",
      "  [0.75970565 0.62323311 0.84938767 0.03884973 0.91106535]\n",
      "  [0.40066535 0.00599448 0.09307211 0.980551   0.8526186 ]]\n",
      "\n",
      " [[0.93485536 0.96221093 0.62466333 0.88549352 0.85552566]\n",
      "  [0.67488414 0.84479562 0.03385445 0.18954918 0.51914385]\n",
      "  [0.14453054 0.84071941 0.40506194 0.2662533  0.9971622 ]]]\n"
     ]
    },
    {
     "data": {
      "text/plain": [
       "\"Yes, it's the same because c is an array of 1, so x*1=1\""
      ]
     },
     "execution_count": 53,
     "metadata": {},
     "output_type": "execute_result"
    }
   ],
   "source": [
    "### [your code here]\n",
    "print(a)\n",
    "print(\"-------------\")\n",
    "print(e)\n",
    "\"\"\"Yes, it's the same because c is an array of 1, so x*1=1\"\"\"\n"
   ]
  },
  {
   "cell_type": "markdown",
   "metadata": {},
   "source": [
    "\n",
    "\n",
    "### 14. Identify the max, min, and mean values in d. Assign those values to variables \"d_max\", \"d_min\", and \"d_mean\"\n"
   ]
  },
  {
   "cell_type": "code",
   "execution_count": 54,
   "metadata": {},
   "outputs": [],
   "source": [
    "### [your code here]\n",
    "\n",
    "d_max = np.max(d)\n",
    "d_min = np.min(d)\n",
    "d_mean = np.mean(d)\n"
   ]
  },
  {
   "cell_type": "markdown",
   "metadata": {},
   "source": [
    "\n",
    "### 15. Now we want to label the values in d. First create an empty array \"f\" with the same shape (i.e. 2x3x5) as d using `np.empty`.\n"
   ]
  },
  {
   "cell_type": "code",
   "execution_count": 66,
   "metadata": {},
   "outputs": [
    {
     "name": "stdout",
     "output_type": "stream",
     "text": [
      "[[[0.02142715 0.22847828 0.23636085 0.27372269 0.87363296]\n",
      "  [0.75970565 0.62323311 0.84938767 0.03884973 0.91106535]\n",
      "  [0.40066535 0.00599448 0.09307211 0.980551   0.8526186 ]]\n",
      "\n",
      " [[0.93485536 0.96221093 0.62466333 0.88549352 0.85552566]\n",
      "  [0.67488414 0.84479562 0.03385445 0.18954918 0.51914385]\n",
      "  [0.14453054 0.84071941 0.40506194 0.2662533  0.9971622 ]]]\n"
     ]
    }
   ],
   "source": [
    "### [your code here]\n",
    "f = np.empty(d.shape)\n",
    "print(f)"
   ]
  },
  {
   "cell_type": "markdown",
   "metadata": {},
   "source": [
    "\n",
    "\n",
    "\n",
    "### 16. Populate the values in f. For each value in d, if it's larger than d_min but smaller than d_mean, assign 25 to the corresponding value in f.\n",
    "If a value in d is larger than d_mean but smaller than d_max, assign 75 to the corresponding value in f.\n",
    "If a value equals to d_mean, assign 50 to the corresponding value in f.\n",
    "Assign 0 to the corresponding value(s) in f for d_min in d.\n",
    "Assign 100 to the corresponding value(s) in f for d_max in d.\n",
    "In the end, f should have only the following values: 0, 25, 50, 75, and 100.\n",
    "Note: you don't have to use Numpy in this question.\n",
    "\n"
   ]
  },
  {
   "cell_type": "code",
   "execution_count": null,
   "metadata": {},
   "outputs": [
    {
     "name": "stdout",
     "output_type": "stream",
     "text": [
      "[[[25. 25. 25. 25. 75.]\n",
      "  [75. 75. 75. 25. 75.]\n",
      "  [25. 25. 25. 75. 75.]]\n",
      "\n",
      " [[75. 75. 75. 75. 75.]\n",
      "  [75. 75. 25. 25. 25.]\n",
      "  [25. 75. 25. 25. 75.]]]\n",
      "100\n",
      "0\n"
     ]
    },
    {
     "data": {
      "text/plain": [
       "'Method 2\\nf = np.where((d > d_min) & (d < d_mean), 25, f)\\n\\nMethod 3\\nf = np.empty(d.shape)\\nfor i in range(d.shape[0]):\\n    for j in range(d.shape[1]):\\n        for k in range(d.shape[2]):\\n            if d_min < d[i, j, k] < d_mean:\\n                f[i, j, k] = 25\\n    elif value > d_mean and value < d_max:\\n        value = 75\\n    elif value == d_mean:\\n        value = 50\\n'"
      ]
     },
     "execution_count": 68,
     "metadata": {},
     "output_type": "execute_result"
    }
   ],
   "source": [
    "### [your code here]\n",
    "\n",
    "condition = (d == d_max)\n",
    "f[condition] = 100\n",
    "condition = (d == d_min)\n",
    "f[condition] = 0\n",
    "condition = (d > d_min) & (d < d_mean)\n",
    "f[condition] = 25\n",
    "condition = (d > d_mean) & (d < d_max)\n",
    "f[condition] = 75\n",
    "condition = (d == d_mean)\n",
    "f[condition] = 50\n",
    "\n",
    "print(f)\n",
    "print(d_max)\n",
    "print(d_min)\n",
    "\n",
    "\"\"\"Method 2\n",
    "f = np.where((d > d_min) & (d < d_mean), 25, f)\n",
    "\n",
    "Method 3\n",
    "f = np.empty(d.shape)\n",
    "for i in range(d.shape[0]):\n",
    "    for j in range(d.shape[1]):\n",
    "        for k in range(d.shape[2]):\n",
    "            if d_min < d[i, j, k] < d_mean:\n",
    "                f[i, j, k] = 25\n",
    "    elif value > d_mean and value < d_max:\n",
    "        value = 75\n",
    "    elif value == d_mean:\n",
    "        value = 50\n",
    "\"\"\""
   ]
  },
  {
   "cell_type": "markdown",
   "metadata": {},
   "source": [
    "\n",
    "\n",
    "\n",
    "\n",
    "### 17. Print d and f. Do you have your expected f?\n",
    "For instance, if your d is:\n",
    "array([[[1.85836099, 1.67064465, 1.62576044, 1.40243961, 1.88454931],\n",
    "        [1.75354326, 1.69403643, 1.36729252, 1.61415071, 1.12104981],\n",
    "        [1.72201435, 1.1862918 , 1.87078449, 1.7726778 , 1.88180042]],\n",
    "\n",
    "       [[1.44747908, 1.31673383, 1.02000951, 1.52218947, 1.97066381],\n",
    "        [1.79129243, 1.74983003, 1.96028037, 1.85166831, 1.65450881],\n",
    "        [1.18068344, 1.9587381 , 1.00656599, 1.93402165, 1.73514584]]])\n",
    "\n",
    "Your f should be:\n",
    "array([[[ 75.,  75.,  75.,  25.,  75.],\n",
    "        [ 75.,  75.,  25.,  25.,  25.],\n",
    "        [ 75.,  25.,  75.,  75.,  75.]],\n",
    "\n",
    "       [[ 25.,  25.,  25.,  25., 100.],\n",
    "        [ 75.,  75.,  75.,  75.,  75.],\n",
    "        [ 25.,  75.,   0.,  75.,  75.]]])\n",
    "\n"
   ]
  },
  {
   "cell_type": "code",
   "execution_count": 73,
   "metadata": {},
   "outputs": [
    {
     "name": "stdout",
     "output_type": "stream",
     "text": [
      "[[[1.02142715 1.22847828 1.23636085 1.27372269 1.87363296]\n",
      "  [1.75970565 1.62323311 1.84938767 1.03884973 1.91106535]\n",
      "  [1.40066535 1.00599448 1.09307211 1.980551   1.8526186 ]]\n",
      "\n",
      " [[1.93485536 1.96221093 1.62466333 1.88549352 1.85552566]\n",
      "  [1.67488414 1.84479562 1.03385445 1.18954918 1.51914385]\n",
      "  [1.14453054 1.84071941 1.40506194 1.2662533  1.9971622 ]]]\n",
      "----------\n",
      "[[[25. 25. 25. 25. 75.]\n",
      "  [75. 75. 75. 25. 75.]\n",
      "  [25. 25. 25. 75. 75.]]\n",
      "\n",
      " [[75. 75. 75. 75. 75.]\n",
      "  [75. 75. 25. 25. 25.]\n",
      "  [25. 75. 25. 25. 75.]]]\n"
     ]
    }
   ],
   "source": [
    "### [your code here]\n",
    "print(d)\n",
    "print(\"----------\")\n",
    "print(f)"
   ]
  },
  {
   "cell_type": "markdown",
   "metadata": {},
   "source": [
    "### 18. Bonus question: instead of using numbers (i.e. 0, 25, 50, 75, and 100), how to use string values \n",
    "(\"A\", \"B\", \"C\", \"D\", and \"E\") to label the array elements? You are expecting the result to be:\n",
    "array([[[ 'D',  'D',  'D',  'B',  'D'],\n",
    "        [ 'D',  'D',  'B',  'B',  'B'],\n",
    "        [ 'D',  'B',  'D',  'D',  'D']],\n",
    "\n",
    "       [[ 'B',  'B',  'B',  'B',  'E'],\n",
    "        [ 'D',  'D',  'D',  'D',  'D'],\n",
    "        [ 'B',  'D',   'A',  'D', 'D']]])\n",
    "Again, you don't need Numpy in this question."
   ]
  },
  {
   "cell_type": "code",
   "execution_count": 78,
   "metadata": {},
   "outputs": [
    {
     "name": "stdout",
     "output_type": "stream",
     "text": [
      "[[['B' 'B' 'B' 'B' 'D']\n",
      "  ['D' 'D' 'D' 'B' 'D']\n",
      "  ['B' 'B' 'B' 'D' 'D']]\n",
      "\n",
      " [['D' 'D' 'D' 'D' 'D']\n",
      "  ['D' 'D' 'B' 'B' 'B']\n",
      "  ['B' 'D' 'B' 'B' 'D']]]\n"
     ]
    }
   ],
   "source": [
    "### [your code here]\n",
    "# Convert f to dtype object to allow string assignment\n",
    "f = f.astype(object)\n",
    "\n",
    "for i in range(f.shape[0]):\n",
    "    for j in range(f.shape[1]):\n",
    "        for k in range(f.shape[2]):\n",
    "            if f[i, j, k] == 0:\n",
    "                f[i, j, k] = \"A\"\n",
    "            elif f[i, j, k] == 25:\n",
    "                f[i, j, k] = \"B\"\n",
    "            elif f[i, j, k] == 50:\n",
    "                f[i, j, k] = \"C\"\n",
    "            elif f[i, j, k] == 75:\n",
    "                f[i, j, k] = \"D\"\n",
    "            elif f[i, j, k] == 100:\n",
    "                f[i, j, k] = \"E\"\n",
    "\n",
    "print(f)"
   ]
  }
 ],
 "metadata": {
  "kernelspec": {
   "display_name": "base",
   "language": "python",
   "name": "python3"
  },
  "language_info": {
   "codemirror_mode": {
    "name": "ipython",
    "version": 3
   },
   "file_extension": ".py",
   "mimetype": "text/x-python",
   "name": "python",
   "nbconvert_exporter": "python",
   "pygments_lexer": "ipython3",
   "version": "3.12.7"
  }
 },
 "nbformat": 4,
 "nbformat_minor": 2
}
